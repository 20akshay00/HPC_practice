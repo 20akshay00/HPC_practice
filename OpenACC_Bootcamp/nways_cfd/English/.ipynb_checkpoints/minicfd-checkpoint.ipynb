{
 "cells": [
  {
   "cell_type": "markdown",
   "metadata": {},
   "source": [
    "## Weather Simulation\n",
    "In this lab we will accelerate a Simple 2D regular-grid CFD simulation for teaching GPU programming parallel scaling concepts.\n",
    "\n",
    "### Learning objectives\n",
    "Learn how to write a portable parallel program that can run on multicore CPUs and accelerators like GPUs. In this lab, you will learn about best practices and ways to incrementally improve performance. You will learn how to apply incremental parallelization strategies using OpenACC programming model. In this lab, you will:\n",
    "\n",
    "- Understand how to use the PGI compiler and some useful arguments when compiling a serial and parallel application\n",
    "- Understand how to profile a serial and parallel application with Nsight Systems and NVTX API calls\n",
    "- Learn to follow cyclical process (analyze, parallelize, optimize) to help you identify the portions of the code that would benefit from GPU acceleration and apply parallelisation strategies and optimization techniques to see additional speedups and improve performance\n",
    "- Learn how to use OpenACC constructs to parallelise the serial application\n",
    "- Learn how to manage data and data transfers with OpenACC for a parallel application\n",
    "\n",
    "### Tutorial Duration\n",
    "The lab material will be presented in a half-day session. Material will be available to attendees at the end of the lab.\n",
    "\n",
    "### Content Level\n",
    "Beginner, Intermediate\n",
    "\n",
    "### Target Audience and Prerequisites\n",
    "The target audience for this tutorial is researchers/graduate students and developers who are interested in\n",
    "harnessing the power of GPUs to accelerate their scientific applications, yet achieving performance portability\n",
    "across diverse architectures. In addition, members of the HPC community who are constrained by performance\n",
    "limitations in scientific applications using traditionally serial software and/or do not wish to refactor or re-tune their application every time a vendor comes out with a new model will find this tutorial particularly appealing.\n",
    "\n",
    "While this tutorial does not assume any previous experience with OpenACC directives or GPU programming in\n",
    "general, programming experience with C/C++ or Fortran is desirable.\n",
    "\n",
    "### Start Here\n",
    "You can choose between a [C-based code](C/jupyter_notebook/miniweather_c_lab1.ipynb) and a [Fortran-based code](Fortran/jupyter_notebook/miniweather_fortran_lab1.ipynb).   \n",
    "\n",
    "--- \n",
    "\n",
    "## Licensing \n",
    "\n",
    "This material is released by NVIDIA Corporation under the Creative Commons Attribution 4.0 International (CC BY 4.0). "
   ]
  }
 ],
 "metadata": {
  "anaconda-cloud": {},
  "kernelspec": {
   "display_name": "Python 3",
   "language": "python",
   "name": "python3"
  },
  "language_info": {
   "codemirror_mode": {
    "name": "ipython",
    "version": 3
   },
   "file_extension": ".py",
   "mimetype": "text/x-python",
   "name": "python",
   "nbconvert_exporter": "python",
   "pygments_lexer": "ipython3",
   "version": "3.6.2"
  }
 },
 "nbformat": 4,
 "nbformat_minor": 1
}
