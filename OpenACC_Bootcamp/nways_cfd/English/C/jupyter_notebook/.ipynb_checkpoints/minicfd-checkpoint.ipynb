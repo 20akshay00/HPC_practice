{
 "cells": [
  {
   "cell_type": "markdown",
   "metadata": {},
   "source": [
    "# Getting Started\n",
    "Let's execute the cell below to display information about the GPUs running on the server by running the `nvidia-smi` command, which ships with the Nvidia GPU Drivers that we will be using. To do this, execute the cell block below by giving it focus (clicking on it with your mouse), and hitting Ctrl-Enter, or pressing the play button in the toolbar above. If all goes well, you should see some output returned below the grey cell."
   ]
  },
  {
   "cell_type": "code",
   "execution_count": null,
   "metadata": {},
   "outputs": [],
   "source": [
    "!nvidia-smi"
   ]
  },
  {
   "cell_type": "markdown",
   "metadata": {},
   "source": [
    "Since the code will be run on Multicore as well try "
   ]
  },
  {
   "cell_type": "code",
   "execution_count": null,
   "metadata": {},
   "outputs": [],
   "source": [
    "!cat /etc/proc/cpuinfo"
   ]
  },
  {
   "cell_type": "markdown",
   "metadata": {},
   "source": [
    "# A MINI-WEATHER APPLICATION\n",
    "\n",
    "In this lab we will accelerate a Fluid Simulation in the context of atmosphere and weather simulation.\n",
    "The mini weather code mimics the basic dynamics seen in the atmspheric weather and climate.\n",
    "\n",
    "The figure below demonstrates how a narrow jet of fast and slightly cold wind is injected into a balanced, neutral atmosphere at rest from the left domain near the model."
   ]
  },
  {
   "cell_type": "markdown",
   "metadata": {},
   "source": [
    "<img src=\"images/Time.jpg\" width=\"80%\" height=\"80%\">"
   ]
  },
  {
   "cell_type": "markdown",
   "metadata": {},
   "source": [
    "Simulation is a repetitive process from 0 to the desired simulated time, increasing by Δt on every iteration.\n",
    "Each Δt step is practically the same operation. Each simulation is solving a differential equation that represents how the flow of the atmosphere (fluid) changes according to small perturbations. To simplify this solution the code uses dimensional splitting: Each dimension X and Z are treated independently."
   ]
  },
  {
   "cell_type": "markdown",
   "metadata": {},
   "source": [
    "<img src=\"images/X_Y.jpg\" width=\"80%\" height=\"80%\">"
   ]
  },
  {
   "cell_type": "markdown",
   "metadata": {},
   "source": [
    "The differential equation has a time derivative that needs integrating, and a simple low-storage Runge-Kutta ODE solver is used to integrate the time derivative. Each time step, the order in which the dimentions are solved is reversed, giving second-order accuracy. "
   ]
  },
  {
   "cell_type": "markdown",
   "metadata": {},
   "source": [
    "<img src=\"images/Range-Kutta.jpg\" width=\"70%\" height=\"70%\">"
   ]
  },
  {
   "cell_type": "markdown",
   "metadata": {},
   "source": [
    "### The objective of this exercise is not to dwell into the Maths part of it but to make use of OpenACC to parallelize and improve the performance."
   ]
  },
  {
   "cell_type": "markdown",
   "metadata": {},
   "source": [
    "The general flow of the code is as shown in diagram below. For each time step the differential equations are solved."
   ]
  },
  {
   "cell_type": "markdown",
   "metadata": {},
   "source": [
    "<img src=\"images/Outer_Loop.jpg\" width=\"70%\" height=\"70%\">\n",
    "\n",
    "\n",
    "```cpp\n",
    "while (etime < sim_time) {\n",
    "    //If the time step leads to exceeding the simulation time, shorten it for the last step\n",
    "    if (etime + dt > sim_time) { dt = sim_time - etime; }\n",
    "    //Perform a single time step\n",
    "    perform_timestep(state,state_tmp,flux,tend,dt);\n",
    "    //Inform the user\n",
    "    if (masterproc) { printf( \"Elapsed Time: %lf / %lf\\n\", etime , sim_time ); }\n",
    "    //Update the elapsed time and output counter\n",
    "    etime = etime + dt;\n",
    "    output_counter = output_counter + dt;\n",
    "    //If it's time for output, reset the counter, and do output\n",
    "    if (output_counter >= output_freq) {\n",
    "      output_counter = output_counter - output_freq;\n",
    "      output(state,etime);\n",
    "    }\n",
    "  }\n",
    "  \n",
    "```"
   ]
  },
  {
   "cell_type": "markdown",
   "metadata": {},
   "source": [
    "At every time step the direction is reversed to get second order derivative."
   ]
  },
  {
   "cell_type": "markdown",
   "metadata": {},
   "source": [
    "<img src=\"images/Time_Step.jpg\" width=\"70%\" height=\"70%\">\n",
    "\n",
    "```cpp\n",
    "void perform_timestep( double *state , double *state_tmp , double *flux , double *tend , double dt ) {\n",
    "  if (direction_switch) {\n",
    "    //x-direction first\n",
    "    semi_discrete_step( state , state     , state_tmp , dt / 3 , DIR_X , flux , tend );\n",
    "    semi_discrete_step( state , state_tmp , state_tmp , dt / 2 , DIR_X , flux , tend );\n",
    "    semi_discrete_step( state , state_tmp , state     , dt / 1 , DIR_X , flux , tend );\n",
    "    //z-direction second\n",
    "    semi_discrete_step( state , state     , state_tmp , dt / 3 , DIR_Z , flux , tend );\n",
    "    semi_discrete_step( state , state_tmp , state_tmp , dt / 2 , DIR_Z , flux , tend );\n",
    "    semi_discrete_step( state , state_tmp , state     , dt / 1 , DIR_Z , flux , tend );\n",
    "  } else {\n",
    "    //z-direction second\n",
    "    semi_discrete_step( state , state     , state_tmp , dt / 3 , DIR_Z , flux , tend );\n",
    "    semi_discrete_step( state , state_tmp , state_tmp , dt / 2 , DIR_Z , flux , tend );\n",
    "    semi_discrete_step( state , state_tmp , state     , dt / 1 , DIR_Z , flux , tend );\n",
    "    //x-direction first\n",
    "    semi_discrete_step( state , state     , state_tmp , dt / 3 , DIR_X , flux , tend );\n",
    "    semi_discrete_step( state , state_tmp , state_tmp , dt / 2 , DIR_X , flux , tend );\n",
    "    semi_discrete_step( state , state_tmp , state     , dt / 1 , DIR_X , flux , tend );\n",
    "  }\n",
    "  if (direction_switch) { direction_switch = 0; } else { direction_switch = 1; }\n",
    "}\n",
    "```"
   ]
  },
  {
   "cell_type": "markdown",
   "metadata": {},
   "source": [
    "<img src=\"images/Semi_Discrete.jpg\" width=\"70%\" height=\"70%\">"
   ]
  },
  {
   "cell_type": "markdown",
   "metadata": {},
   "source": [
    "## Steps to follow\n",
    "We will follow the Optimization cycle for porting and improving the code performance.\n",
    "\n",
    "<img src=\"images/Optimization_Cycle.jpg\" width=\"80%\" height=\"80%\">\n"
   ]
  },
  {
   "cell_type": "markdown",
   "metadata": {},
   "source": [
    "### Understand and Analyze the code\n",
    "Analyze the code present at:\n",
    "\n",
    "[Serial Code](../source_code/ORIGINAL/miniWeather_serial.cpp) \n",
    "\n",
    "[Makefile](../source_code/ORIGINAL/Makefile)\n",
    "\n",
    "Open the downloaded file and inspect it."
   ]
  },
  {
   "cell_type": "markdown",
   "metadata": {},
   "source": [
    "## Compile the code"
   ]
  },
  {
   "cell_type": "code",
   "execution_count": null,
   "metadata": {},
   "outputs": [],
   "source": [
    "!cd ../source_code && make clean && make"
   ]
  },
  {
   "cell_type": "markdown",
   "metadata": {},
   "source": [
    "## Run the CPU code"
   ]
  },
  {
   "cell_type": "code",
   "execution_count": null,
   "metadata": {},
   "outputs": [],
   "source": [
    "!cd ../source_code && ./miniWeather"
   ]
  },
  {
   "cell_type": "markdown",
   "metadata": {},
   "source": [
    "## Profiling\n",
    "\n",
    "For this section, we will be using Nsight systems profiler and as the code is a CPU code, we will be tracing NVTX APIs (already integrated to the application). NVTX is useful for tracing of CPU events and time ranges. For more info on Nsight profiler, please see the __[profiler documentation](https://docs.nvidia.com/nsight-systems/)__.\n",
    "\n",
    "### Viewing the profler output\n",
    "There are two ways to look at profiled code: \n",
    "\n",
    "1) Command line based: Use `nsys` to collect and view profiling data from the command-line. Profiling results are displayed in the console after the profiling data is collected.\n",
    "\n",
    "2) NVIDIA Nsight System: Open the Nsight System profiler and click on file > open, and choose the profiler output called `miniWeather_profile.qdrep`. If you would like to view this on your local machine, this requires that the local system has CUDA toolkit installed of same version. More details on where to download CUDA toolit can be found in the links in resources section below."
   ]
  },
  {
   "cell_type": "markdown",
   "metadata": {},
   "source": [
    "## Profile the CPU code to find hotspots"
   ]
  },
  {
   "cell_type": "code",
   "execution_count": null,
   "metadata": {},
   "outputs": [],
   "source": [
    "!cd ../source_code && nsys profile -t nvtx --stats=true --force-overwrite true -o miniWeather_profile ./miniWeather"
   ]
  },
  {
   "cell_type": "markdown",
   "metadata": {},
   "source": [
    "[Download the profiler output](../source_code/miniWeather_profile.qdrep)"
   ]
  },
  {
   "cell_type": "markdown",
   "metadata": {},
   "source": [
    "## Start adding OpenACC Pragmas\n",
    "\n",
    "Before start modifying the serial code, let's make a copy of the serial code and rename it. Then, copy the output of the serial code `reference.nc` to the `checker` folder for later use (more info in later sections)."
   ]
  },
  {
   "cell_type": "code",
   "execution_count": null,
   "metadata": {},
   "outputs": [],
   "source": [
    "!cp ../source_code/miniWeather_serial.cpp ../source_code/miniWeather_openacc.cpp\n",
    "!cp ../source_code/reference.nc ../source_code/checker/reference.nc"
   ]
  },
  {
   "cell_type": "markdown",
   "metadata": {},
   "source": [
    "Now, you can start modifying the C++ code and the `Makefile`:\n",
    "\n",
    "From the top menu, click on *File*, and *Open* `miniWeather_openacc.cpp` and `Makefile` from the current directory at `C/source_code` directory. Remember to **SAVE** your code after changes, before running below cells.\n",
    "\n",
    "#### Some Hints\n",
    "\n",
    "1) Which variables are by default declared private?\n",
    "\n",
    "2) Notice implicit and explicit copy of variables --> Add `-Minfo=accel` flag to `Makefile`.\n",
    "\n",
    "3) Check if there is any data race in your code.( More details on data race is present in the Links and resources section below)"
   ]
  },
  {
   "cell_type": "markdown",
   "metadata": {},
   "source": [
    "## Compile and run OpenACC enabled code\n"
   ]
  },
  {
   "cell_type": "code",
   "execution_count": null,
   "metadata": {},
   "outputs": [],
   "source": [
    "!cd ../source_code && make clean && make"
   ]
  },
  {
   "cell_type": "markdown",
   "metadata": {},
   "source": [
    "Hint : Add `-Minfo=accel` to the `Makefile` to check that Kernel code indeed has been generated."
   ]
  },
  {
   "cell_type": "markdown",
   "metadata": {},
   "source": [
    "## Profile the OpenACC Code"
   ]
  },
  {
   "cell_type": "code",
   "execution_count": null,
   "metadata": {},
   "outputs": [],
   "source": [
    "!cd ../source_code && nsys profile -t nvtx,openacc --stats=true --force-overwrite true -o miniWeather_profile ./miniWeather"
   ]
  },
  {
   "cell_type": "markdown",
   "metadata": {},
   "source": [
    "You can examine the output on the terminal or you can download the file and view the timeline by opening the output with the NVIDIA Nsight Systems."
   ]
  },
  {
   "cell_type": "markdown",
   "metadata": {},
   "source": [
    "[Download the profiler output](../source_code/miniWeather_profile.qdrep)"
   ]
  },
  {
   "cell_type": "markdown",
   "metadata": {},
   "source": [
    "## Validating the Output\n",
    "\n",
    "This is a simple code written to “check” the output as you add directives. Rename the current output to `new.nc` and compare it to the “correct” output from the serial code `reference.nc`. The `checker.py` code, looks for largest error and largest “difference” – computes % difference.\n",
    "\n",
    "**Note:** We have already made a copy of the `reference.nc`. Now, we copy the output of the parallel code to the `checker` folder to validate the ouput. Make sure to run the executable in default mode without any input arguments: `!./miniWeather`."
   ]
  },
  {
   "cell_type": "code",
   "execution_count": null,
   "metadata": {},
   "outputs": [],
   "source": [
    "!cp ../source_code/reference.nc ../source_code/checker/new.nc\n",
    "!ipython ../source_code/checker/checker.py"
   ]
  },
  {
   "cell_type": "markdown",
   "metadata": {},
   "source": [
    "# Recommendations for adding OpenACC Pragmas\n",
    "\n",
    "After finding the hotspot function take an incremental approach to add pargmas. \n",
    "\n",
    "1) Ignore the initialization, finalization and I/O functions\n",
    "\n",
    "```cpp\n",
    "//Declaring the functions defined after \"main\"\n",
    "void init(int *argc, char ***argv);\n",
    "void finalize();\n",
    "void injection(double x, double z, double &r, double &u, double &w, double &t, double &hr, double &ht);\n",
    "void hydro_const_theta(double z, double &r, double &t);\n",
    "void output(double *state, double etime);\n",
    "void ncwrap(int ierr, int line);\n",
    "void perform_timestep(double *state, double *state_tmp, double *flux, double *tend, double dt);\n",
    "void semi_discrete_step(double *state_init, double *state_forcing, double *state_out, double dt, int dir, double *flux, double *tend);\n",
    "void compute_tendencies_x(double *state, double *flux, double *tend);\n",
    "void compute_tendencies_z(double *state, double *flux, double *tend);\n",
    "void set_halo_values_x(double *state);\n",
    "void set_halo_values_z(double *state);\n",
    "```\n",
    "\n",
    "2) Take an incremental approach by adding pragmas one at a time\n",
    "\n",
    "3) Unified Memory provides a good start point where you need not worry about the data transfers (`–ta=tesla:managed`)\n",
    "\n",
    "4) Cross check the output after incremental changes to check algorithmic scalability\n",
    "\n",
    "5) Move on to using data clauses for better performance ( Hint: For manual data movement, find out used variables, READ-WRITE patterns and where (host or device) the value is needed )\n",
    "\n",
    "6) Start with a small problem size that reduces the execution time. Trying modifying the `nx_glob`, `nz_glob` , and `sim_time` values when running the miniWeather executable.\n",
    "\n",
    "Example: `!./miniWeather 800 400 100`\n",
    "\n",
    "**Note:** You can provide input values for `nx_glob`, `nz_glob` , and `sim_time` where,\n",
    "\n",
    "* `nx_glob` and `nz_glob` is the number of total cells in the x and z directions\n",
    "* `sim_time` is the simulation time in seconds\n",
    "\n",
    "Try running the executable by providing arguments: `!./miniWeather 800 400 100`. The number of total cells in the x-direction must be twice as large as the total number of cells in the z directions. The default values are 400, 200, and 1500 seconds.\n",
    "\n",
    "\n",
    "**General tip:** Be aware of *Data Race* situation in which at least two threads access a shared variable at the same time. At least on thread tries to modify the variable. If data race happened, an incorrect result will be returned. So, make sure to validate your output against the serial version using the `checker.py` function."
   ]
  },
  {
   "cell_type": "markdown",
   "metadata": {},
   "source": [
    "# Links and Resources\n",
    "\n",
    "[OpenACC API Guide](https://www.openacc.org/sites/default/files/inline-files/OpenACC%20API%202.6%20Reference%20Guide.pdf)\n",
    "\n",
    "[NVIDIA Nsight System](https://docs.nvidia.com/nsight-systems/)\n",
    "\n",
    "[CUDA Toolkit Download](https://developer.nvidia.com/cuda-downloads)\n",
    "\n",
    "**NOTE**: To be able to see the Nsight System profiler output, please download Nsight System latest version from [here](https://developer.nvidia.com/nsight-systems).\n",
    "\n",
    "Don't forget to check out additional [OpenACC Resources](https://www.openacc.org/resources) and join our [OpenACC Slack Channel](https://www.openacc.org/community#slack) to share your experience and get more help from the community.\n",
    "\n",
    "--- \n",
    "\n",
    "## Licensing \n",
    "\n",
    "This material is released by NVIDIA Corporation under the Creative Commons Attribution 4.0 International (CC BY 4.0). "
   ]
  }
 ],
 "metadata": {
  "anaconda-cloud": {},
  "kernelspec": {
   "display_name": "Python 3",
   "language": "python",
   "name": "python3"
  },
  "language_info": {
   "codemirror_mode": {
    "name": "ipython",
    "version": 3
   },
   "file_extension": ".py",
   "mimetype": "text/x-python",
   "name": "python",
   "nbconvert_exporter": "python",
   "pygments_lexer": "ipython3",
   "version": "3.6.2"
  }
 },
 "nbformat": 4,
 "nbformat_minor": 1
}
