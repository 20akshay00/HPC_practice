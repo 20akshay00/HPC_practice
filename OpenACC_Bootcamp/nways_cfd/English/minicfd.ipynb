{
 "cells": [
  {
   "cell_type": "markdown",
   "metadata": {},
   "source": [
    "## CFD Simulation\n",
    "In this lab we will accelerate a Simple 2D regular-grid CFD simulation for teaching GPU programming using multiple approaches.\n",
    "\n",
    "### Learning objectives\n",
    "Learn how to write a portable parallel program that can run on multicore CPUs and accelerators like GPUs using OpenACC, OpenMP and std::par. Also learn how to optimize using lower level constructs using languages like CUDA-C. \n",
    "\n",
    "### Tutorial Duration\n",
    "The lab material is a challenge where the particiapnts will accelerate the application using mutiple approaches to GPU programming.\n",
    "\n",
    "### Content Level\n",
    "Beginner, Intermediate\n",
    "\n",
    "### Target Audience and Prerequisites\n",
    "The target audience for this tutorial is researchers/graduate students and developers who are interested in\n",
    "harnessing the power of GPUs to accelerate their scientific applications, and evaluate which programming approach best suites their needs. \n",
    "\n",
    "\n",
    "### Start Here\n",
    "You can choose between a [C-based code](C/jupyter_notebook/minicfd.ipynb).   \n",
    "\n",
    "--- \n",
    "\n",
    "## Licensing \n",
    "\n",
    "This material is released by NVIDIA Corporation under the Creative Commons Attribution 4.0 International (CC BY 4.0). "
   ]
  }
 ],
 "metadata": {
  "anaconda-cloud": {},
  "kernelspec": {
   "display_name": "Python 3",
   "language": "python",
   "name": "python3"
  },
  "language_info": {
   "codemirror_mode": {
    "name": "ipython",
    "version": 3
   },
   "file_extension": ".py",
   "mimetype": "text/x-python",
   "name": "python",
   "nbconvert_exporter": "python",
   "pygments_lexer": "ipython3",
   "version": "3.6.2"
  }
 },
 "nbformat": 4,
 "nbformat_minor": 1
}
